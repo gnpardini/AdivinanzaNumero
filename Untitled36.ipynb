{
  "nbformat": 4,
  "nbformat_minor": 0,
  "metadata": {
    "colab": {
      "name": "Untitled36.ipynb",
      "provenance": [],
      "authorship_tag": "ABX9TyMnUq6c15uWQ94l9SYPTRhW",
      "include_colab_link": true
    },
    "kernelspec": {
      "name": "python3",
      "display_name": "Python 3"
    },
    "language_info": {
      "name": "python"
    }
  },
  "cells": [
    {
      "cell_type": "markdown",
      "metadata": {
        "id": "view-in-github",
        "colab_type": "text"
      },
      "source": [
        "<a href=\"https://colab.research.google.com/github/gnpardini/AdivinanzaNumero/blob/master/Untitled36.ipynb\" target=\"_parent\"><img src=\"https://colab.research.google.com/assets/colab-badge.svg\" alt=\"Open In Colab\"/></a>"
      ]
    },
    {
      "cell_type": "code",
      "execution_count": 10,
      "metadata": {
        "colab": {
          "base_uri": "https://localhost:8080/"
        },
        "id": "6cu8n_iZzbqk",
        "outputId": "dcbafab3-93b3-4246-ebd7-489e38e85437"
      },
      "outputs": [
        {
          "output_type": "stream",
          "name": "stdout",
          "text": [
            "Ingrese una materia. Para finalizar ingrese Xmatematica\n",
            "Ingrese una materia. Para finalizar ingrese Xlengua\n",
            "Ingrese una materia. Para finalizar ingrese Xx\n",
            "matematica\n",
            "lengua\n"
          ]
        }
      ],
      "source": [
        "#functions\n",
        "def guardarMaterias():\n",
        "  materia = input(\"Ingrese una materia. Para finalizar ingrese X\")\n",
        "  materiasIngresadas = []\n",
        "\n",
        "  while materia != 'x':\n",
        "    materiasIngresadas.append(materia)\n",
        "    materia = input(\"Ingrese una materia. Para finalizar ingrese X\")\n",
        "\n",
        "  return materiasIngresadas\n",
        "\n",
        "def mostrarMaterias(materiasIngresadas):\n",
        "  for i in range(len(materiasIngresadas)):\n",
        "    print(materiasIngresadas[i])\n",
        "\n",
        "#main\n",
        "materiasIngresadas = guardarMaterias()\n",
        "mostrarMaterias(materiasIngresadas)\n"
      ]
    }
  ]
}